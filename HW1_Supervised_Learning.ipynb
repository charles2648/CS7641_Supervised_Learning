{
  "nbformat": 4,
  "nbformat_minor": 0,
  "metadata": {
    "colab": {
      "provenance": [],
      "authorship_tag": "ABX9TyPYXj1zGaFqmbqyLskZLtek",
      "include_colab_link": true
    },
    "kernelspec": {
      "name": "python3",
      "display_name": "Python 3"
    },
    "language_info": {
      "name": "python"
    }
  },
  "cells": [
    {
      "cell_type": "markdown",
      "metadata": {
        "id": "view-in-github",
        "colab_type": "text"
      },
      "source": [
        "<a href=\"https://colab.research.google.com/github/charles2648/CS7641_Supervised_Learning/blob/main/HW1_Supervised_Learning.ipynb\" target=\"_parent\"><img src=\"https://colab.research.google.com/assets/colab-badge.svg\" alt=\"Open In Colab\"/></a>"
      ]
    },
    {
      "cell_type": "markdown",
      "source": [
        "# Supervised Learning\n",
        "This file demonstrates five supervised learning algorithms' performance on the classfication problem on two datasets. The five supervised learning algorithms are:\n",
        "\n",
        "\n",
        "*   Decision Tree\n",
        "*   Neural Network\n",
        "*   Boosting\n",
        "*   SVM\n",
        "*   KNN\n",
        "\n",
        "the two datasets are: Dry_Bean_Dataset and depression_dataset_reddit_cleaned\n",
        "\n",
        "## Data Preprocessing\n",
        "\n",
        "\n"
      ],
      "metadata": {
        "id": "qMjy86ykjj-A"
      }
    },
    {
      "cell_type": "code",
      "execution_count": 1,
      "metadata": {
        "id": "dHxgpB8Pjhs3"
      },
      "outputs": [],
      "source": [
        "import os\n",
        "import pandas as pd\n",
        "import numpy as np\n",
        "import random\n",
        "\n",
        "%matplotlib inline\n",
        "import matplotlib.pyplot as plt\n",
        "plt.style.use('seaborn-whitegrid')"
      ]
    },
    {
      "cell_type": "markdown",
      "source": [
        "One dataset (drybeam dataset) is adopted from UCI Machine Learning Depository (https://archive.ics.uci.edu/ml/datasets/Dry+Bean+Dataset). This dataset is sourced from Koklu and Ozkan' work (KOKLU, M. and OZKAN, I.A., (2020), “Multiclass Classification of Dry Beans Using Computer Vision and Machine Learning Techniques.” Computers and Electronics in Agriculture, 174, 105507), which contains 13,611 instances of beans with 16 features.\n",
        "\n",
        "The other dataset (depression_dataset_reddit_cleaned) is adopted from kaggle (https://www.kaggle.com/datasets/infamouscoder/depression-reddit-cleaned), which contains texts to classify mental health. \n",
        "\n",
        "### Load Data"
      ],
      "metadata": {
        "id": "yA06rd_w7Ydt"
      }
    },
    {
      "cell_type": "code",
      "source": [
        "df_bean = pd.read_csv('PhishingWebsitesData.csv').astype('category')\n",
        "print(\"Data has\",len(df_phish),\"rows and\", len(df_phish.columns),\"columns.\")\n",
        "if df_phish.isnull().values.any():\n",
        "    print(\"Warning: Missing Data\")"
      ],
      "metadata": {
        "id": "dmvmg9O1fChl"
      },
      "execution_count": null,
      "outputs": []
    }
  ]
}