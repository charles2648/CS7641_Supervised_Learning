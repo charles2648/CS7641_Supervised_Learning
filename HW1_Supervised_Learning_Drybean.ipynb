{
  "nbformat": 4,
  "nbformat_minor": 0,
  "metadata": {
    "colab": {
      "provenance": [],
      "authorship_tag": "ABX9TyOGizLVTXcFjId70/uBpaFj",
      "include_colab_link": true
    },
    "kernelspec": {
      "name": "python3",
      "display_name": "Python 3"
    },
    "language_info": {
      "name": "python"
    }
  },
  "cells": [
    {
      "cell_type": "markdown",
      "metadata": {
        "id": "view-in-github",
        "colab_type": "text"
      },
      "source": [
        "<a href=\"https://colab.research.google.com/github/charles2648/CS7641_Supervised_Learning/blob/main/HW1_Supervised_Learning_Drybean.ipynb\" target=\"_parent\"><img src=\"https://colab.research.google.com/assets/colab-badge.svg\" alt=\"Open In Colab\"/></a>"
      ]
    },
    {
      "cell_type": "markdown",
      "source": [
        "# Supervised Learning\n",
        "This file demonstrates five supervised learning algorithms' performance on the classfication problem on numerical dataset. The five supervised learning algorithms are:\n",
        "\n",
        "\n",
        "*   Decision Tree\n",
        "*   Neural Network\n",
        "*   Boosting\n",
        "*   SVM\n",
        "*   KNN\n",
        "\n",
        "## Data Preprocessing\n",
        "\n",
        "\n"
      ],
      "metadata": {
        "id": "qMjy86ykjj-A"
      }
    },
    {
      "cell_type": "code",
      "execution_count": null,
      "metadata": {
        "id": "dHxgpB8Pjhs3"
      },
      "outputs": [],
      "source": [
        "import os\n",
        "import pandas as pd\n",
        "import numpy as np\n",
        "import random\n",
        "\n",
        "%matplotlib inline\n",
        "import matplotlib.pyplot as plt\n",
        "plt.style.use('seaborn-whitegrid')"
      ]
    },
    {
      "cell_type": "markdown",
      "source": [
        "One dataset (drybeam dataset) is adopted from UCI Machine Learning Depository (https://archive.ics.uci.edu/ml/datasets/Dry+Bean+Dataset). This dataset is sourced from Koklu and Ozkan' work (KOKLU, M. and OZKAN, I.A., (2020), “Multiclass Classification of Dry Beans Using Computer Vision and Machine Learning Techniques.” Computers and Electronics in Agriculture, 174, 105507), which contains 13,611 instances of beans with 16 features. \n",
        "\n",
        "\n",
        "### Load Data"
      ],
      "metadata": {
        "id": "yA06rd_w7Ydt"
      }
    },
    {
      "cell_type": "code",
      "source": [
        "url_1 = \"https://github.com/charles2648/CS7641_Supervised_Learning/blob/main/Dry_Bean_Dataset.xlsx?raw=true\"\n",
        "# load depression data\n",
        "df_drybean = pd.read_excel(url_1)\n",
        "print(\"Data has\",len(df_drybean),\"rows and\", len(df_drybean.columns),\"columns.\")\n",
        "if df_drybean.isnull().values.any():\n",
        "    print(\"Warning: Missing Data\")"
      ],
      "metadata": {
        "colab": {
          "base_uri": "https://localhost:8080/"
        },
        "id": "ltwyt7PPh004",
        "outputId": "8b1cc571-127c-42b7-b58f-2c288d5d8504"
      },
      "execution_count": null,
      "outputs": [
        {
          "output_type": "stream",
          "name": "stdout",
          "text": [
            "Data has 7731 rows and 2 columns.\n"
          ]
        }
      ]
    }
  ]
}